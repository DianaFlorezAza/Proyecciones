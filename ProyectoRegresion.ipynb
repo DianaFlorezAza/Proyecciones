{
 "cells": [
  {
   "cell_type": "markdown",
   "metadata": {},
   "source": [
    "**PROYECTO REGRESION LINEAL**"
   ]
  },
  {
   "cell_type": "markdown",
   "metadata": {},
   "source": [
    "Diana Florez Aza"
   ]
  },
  {
   "cell_type": "markdown",
   "metadata": {},
   "source": [
    "**1. Introduccion**"
   ]
  },
  {
   "cell_type": "markdown",
   "metadata": {},
   "source": [
    "**1.1. ¿Qué es la regresión lineal?**"
   ]
  },
  {
   "cell_type": "markdown",
   "metadata": {},
   "source": [
    "La regresión lineal es un algoritmo de aprendizaje supervisado que se utiliza en Machine Learning y en estadística. En su versión más sencilla, lo que haremos es “dibujar una recta” que nos indicará la tendencia de un conjunto de datos continuos (si fueran discretos, utilizaríamos Regresión Logística). En estadísticas, regresión lineal es una aproximación para modelar la relación entre una variable escalar dependiente \"y\" y una o mas variables explicativas nombradas con \"X\".\n",
    "\n",
    "La fórmula de la recta es: $$ Y = mX + b $$\n",
    "\n",
    "Donde Y es el resultado, X es la variable, m la pendiente (o coeficiente) de la recta y b la constante o también conocida como el \"punto de corte con el eje Y\" en la gráfica (cuando X=0)"
   ]
  },
  {
   "cell_type": "markdown",
   "metadata": {},
   "source": [
    "**1.2. ¿Cómo funciona el algoritmo de regresión lineal en Machine Learning?**"
   ]
  },
  {
   "cell_type": "markdown",
   "metadata": {},
   "source": [
    "Los algoritmos de Machine Learning Supervisados, aprenden por sí mismos y -en este caso- a obtener automáticamente esa \"recta\" que buscamos con la tendencia de predicción. Para hacerlo se mide el error con respecto a los puntos de entrada y el valor \"Y\" de salida real. El algoritmo deberá minimizar el coste de una función de error cuadrático y esos coeficientes corresponderán con la recta óptima. Hay diversos métodos para conseguir minimizar el coste. Lo más común es utilizar una versión vectorial y la llamada Ecuación Normal que nos dará un resultado directo.\n",
    "\n",
    "NOTA: cuando se habla de \"recta\" es en el caso particular de regresión lineal simple. Si hubiera más variables, hay que generalizar el término.\n",
    "\n",
    "En **Regresion con Multiples Variables** se extiende el ejercicio utilizando más de una variable de entrada para el modelo. Esto le da mayor poder al algoritmo de Machine Learning, pues de esta manera podremos obtener predicciones más complejas.\n",
    "\n",
    "Nuestra \"ecuación de la Recta\", ahora pasa a ser:\n",
    "\n",
    "$$Y = b + m1 X1 + m2 X2 + … + m(n) X(n)$$"
   ]
  },
  {
   "cell_type": "markdown",
   "metadata": {},
   "source": [
    "**2. Breve Historia**"
   ]
  },
  {
   "cell_type": "markdown",
   "metadata": {},
   "source": [
    "La primera forma de regresión lineal documentada fue el método de los mínimos cuadrados que fue publicada por Legendre en 1805, Gauss publicó un trabajo en donde desarrollaba de manera más profunda el método de los mínimos cuadrados, y en dónde se incluía una versión del teorema de Gauss-Márkov.\n",
    "\n",
    "El término regresión se utilizó por primera vez en el estudio de variables antropométricas: al comparar la estatura de padres e hijos, donde resultó que los hijos cuyos padres tenían una estatura muy superior al valor medio, tendían a igualarse a este, mientras que aquellos cuyos padres eran muy bajos tendían a reducir su diferencia respecto a la estatura media; es decir, \"regresaban\" al promedio. La constatación empírica de esta propiedad se vio reforzada más tarde con la justificación teórica de ese fenómeno.\n",
    "\n",
    "El término lineal se emplea para distinguirlo del resto de técnicas de regresión, que emplean modelos basados en cualquier clase de función matemática. Los modelos lineales son una explicación simplificada de la realidad, mucho más ágiles y con un soporte teórico mucho más extenso por parte de la matemática y la estadística. [blue_text](https://es.wikipedia.org/wiki/Regresi%C3%B3n_lineal)"
   ]
  },
  {
   "cell_type": "markdown",
   "metadata": {},
   "source": [
    "**3. El planteamiento del algortimo**"
   ]
  },
  {
   "cell_type": "markdown",
   "metadata": {},
   "source": [
    "El objetivo del analisis es encontrar el planteamiento matematicos que mejor prediga los precios de las viviendas en funcion de las variables predictoras de cada una de las viviendas siendo estos:\n",
    "\n",
    "* Edad de la casa\n",
    "* Distancia a la estacion de metro mas cercana\n",
    "* Numero de tiendas\n",
    "* Area\n",
    "* Latitud\n",
    "* Longitud\n",
    "\n",
    "En este caso utilizariamos un modelo de Regresion Lineal Multiple con la siguiente forma en el que necesitamos encontrar los valores de los parametros\n",
    "\n",
    "$$Y = b + m1 X1 + m2 X2 + m3 X3 + m4 X4 + m5 X5 + m6 X6$$\n"
   ]
  },
  {
   "cell_type": "markdown",
   "metadata": {},
   "source": [
    "**4. Ejemplo**"
   ]
  },
  {
   "cell_type": "markdown",
   "metadata": {},
   "source": [
    "Este conjunto de datos inmobiliarios incluye la fecha de compra, la edad de la casa, la ubicación, la distancia a la estación de MRT más cercana y el precio de la casa por unidad de superficie. [blue_text](https://www.kaggle.com/quantbruce/real-estate-price-prediction)"
   ]
  },
  {
   "cell_type": "code",
   "execution_count": 1,
   "metadata": {},
   "outputs": [
    {
     "data": {
      "text/html": [
       "<div>\n",
       "<style scoped>\n",
       "    .dataframe tbody tr th:only-of-type {\n",
       "        vertical-align: middle;\n",
       "    }\n",
       "\n",
       "    .dataframe tbody tr th {\n",
       "        vertical-align: top;\n",
       "    }\n",
       "\n",
       "    .dataframe thead th {\n",
       "        text-align: right;\n",
       "    }\n",
       "</style>\n",
       "<table border=\"1\" class=\"dataframe\">\n",
       "  <thead>\n",
       "    <tr style=\"text-align: right;\">\n",
       "      <th></th>\n",
       "      <th>X1 transaction date</th>\n",
       "      <th>X2 house age</th>\n",
       "      <th>X3 distance to the nearest MRT station</th>\n",
       "      <th>X4 number of convenience stores</th>\n",
       "      <th>X5 latitude</th>\n",
       "      <th>X6 longitude</th>\n",
       "      <th>Y house price of unit area</th>\n",
       "    </tr>\n",
       "    <tr>\n",
       "      <th>No</th>\n",
       "      <th></th>\n",
       "      <th></th>\n",
       "      <th></th>\n",
       "      <th></th>\n",
       "      <th></th>\n",
       "      <th></th>\n",
       "      <th></th>\n",
       "    </tr>\n",
       "  </thead>\n",
       "  <tbody>\n",
       "    <tr>\n",
       "      <th>1</th>\n",
       "      <td>2012.917</td>\n",
       "      <td>32.0</td>\n",
       "      <td>84.87882</td>\n",
       "      <td>10</td>\n",
       "      <td>24.98298</td>\n",
       "      <td>121.54024</td>\n",
       "      <td>37.9</td>\n",
       "    </tr>\n",
       "    <tr>\n",
       "      <th>2</th>\n",
       "      <td>2012.917</td>\n",
       "      <td>19.5</td>\n",
       "      <td>306.59470</td>\n",
       "      <td>9</td>\n",
       "      <td>24.98034</td>\n",
       "      <td>121.53951</td>\n",
       "      <td>42.2</td>\n",
       "    </tr>\n",
       "    <tr>\n",
       "      <th>3</th>\n",
       "      <td>2013.583</td>\n",
       "      <td>13.3</td>\n",
       "      <td>561.98450</td>\n",
       "      <td>5</td>\n",
       "      <td>24.98746</td>\n",
       "      <td>121.54391</td>\n",
       "      <td>47.3</td>\n",
       "    </tr>\n",
       "    <tr>\n",
       "      <th>4</th>\n",
       "      <td>2013.500</td>\n",
       "      <td>13.3</td>\n",
       "      <td>561.98450</td>\n",
       "      <td>5</td>\n",
       "      <td>24.98746</td>\n",
       "      <td>121.54391</td>\n",
       "      <td>54.8</td>\n",
       "    </tr>\n",
       "  </tbody>\n",
       "</table>\n",
       "</div>"
      ],
      "text/plain": [
       "    X1 transaction date  X2 house age  X3 distance to the nearest MRT station  \\\n",
       "No                                                                              \n",
       "1              2012.917          32.0                                84.87882   \n",
       "2              2012.917          19.5                               306.59470   \n",
       "3              2013.583          13.3                               561.98450   \n",
       "4              2013.500          13.3                               561.98450   \n",
       "\n",
       "    X4 number of convenience stores  X5 latitude  X6 longitude  \\\n",
       "No                                                               \n",
       "1                                10     24.98298     121.54024   \n",
       "2                                 9     24.98034     121.53951   \n",
       "3                                 5     24.98746     121.54391   \n",
       "4                                 5     24.98746     121.54391   \n",
       "\n",
       "    Y house price of unit area  \n",
       "No                              \n",
       "1                         37.9  \n",
       "2                         42.2  \n",
       "3                         47.3  \n",
       "4                         54.8  "
      ]
     },
     "execution_count": 1,
     "metadata": {},
     "output_type": "execute_result"
    }
   ],
   "source": [
    "import pandas as pd\n",
    "df = pd.read_csv('Real estate.csv', index_col=0)\n",
    "\n",
    "# Show dataframe\n",
    "df.head(4)"
   ]
  },
  {
   "cell_type": "code",
   "execution_count": 2,
   "metadata": {},
   "outputs": [
    {
     "data": {
      "text/plain": [
       "Index(['X1 transaction date', 'X2 house age',\n",
       "       'X3 distance to the nearest MRT station',\n",
       "       'X4 number of convenience stores', 'X5 latitude', 'X6 longitude',\n",
       "       'Y house price of unit area'],\n",
       "      dtype='object')"
      ]
     },
     "execution_count": 2,
     "metadata": {},
     "output_type": "execute_result"
    }
   ],
   "source": [
    "df.columns"
   ]
  },
  {
   "cell_type": "code",
   "execution_count": 3,
   "metadata": {},
   "outputs": [
    {
     "data": {
      "text/plain": [
       "Index(['X1transactiondate', 'X2houseage', 'X3distancetothenearestMRTstation',\n",
       "       'X4numberofconveniencestores', 'X5latitude', 'X6longitude',\n",
       "       'Yhousepriceofunitarea'],\n",
       "      dtype='object')"
      ]
     },
     "execution_count": 3,
     "metadata": {},
     "output_type": "execute_result"
    }
   ],
   "source": [
    "df.columns = df.columns.str.replace(' ', '') \n",
    "df.columns"
   ]
  },
  {
   "cell_type": "code",
   "execution_count": 4,
   "metadata": {},
   "outputs": [],
   "source": [
    "import sklearn as skl\n",
    "import numpy as np\n",
    "import scipy as sc\n",
    "import matplotlib.pyplot as plt"
   ]
  },
  {
   "cell_type": "code",
   "execution_count": 5,
   "metadata": {},
   "outputs": [
    {
     "name": "stdout",
     "output_type": "stream",
     "text": [
      "No\n",
      "1    37.9\n",
      "2    42.2\n",
      "Name: Yhousepriceofunitarea, dtype: float64\n",
      "No\n",
      "1    32.0\n",
      "2    19.5\n",
      "Name: X2houseage, dtype: float64\n",
      "No\n",
      "1     84.87882\n",
      "2    306.59470\n",
      "Name: X3distancetothenearestMRTstation, dtype: float64\n",
      "No\n",
      "1    10\n",
      "2     9\n",
      "Name: X4numberofconveniencestores, dtype: int64\n",
      "No\n",
      "1    24.98298\n",
      "2    24.98034\n",
      "Name: X5latitude, dtype: float64\n",
      "No\n",
      "1    121.54024\n",
      "2    121.53951\n",
      "Name: X6longitude, dtype: float64\n"
     ]
    }
   ],
   "source": [
    "Y=df.xs('Yhousepriceofunitarea', axis=1)\n",
    "X1=df.xs('X2houseage', axis=1)\n",
    "X2=df.xs('X3distancetothenearestMRTstation', axis=1)\n",
    "X3=df.xs('X4numberofconveniencestores', axis=1)\n",
    "X4=df.xs('X5latitude', axis=1)\n",
    "X5=df.xs('X6longitude', axis=1)\n",
    "print(Y.head(2))\n",
    "print(X1.head(2))\n",
    "print(X2.head(2))\n",
    "print(X3.head(2))\n",
    "print(X4.head(2))\n",
    "print(X5.head(2))"
   ]
  },
  {
   "cell_type": "code",
   "execution_count": 6,
   "metadata": {},
   "outputs": [
    {
     "data": {
      "image/png": "[encoded data removed]",
      "text/plain": [
       "<Figure size 432x288 with 1 Axes>"
      ]
     },
     "metadata": {
      "needs_background": "light"
     },
     "output_type": "display_data"
    },
    {
     "name": "stdout",
     "output_type": "stream",
     "text": [
      "La correlación de Yhousepriceofunitarea y X2houseage es: -0.2105670462772168\n"
     ]
    },
    {
     "data": {
      "image/png": "[encoded data removed]",
      "text/plain": [
       "<Figure size 432x288 with 1 Axes>"
      ]
     },
     "metadata": {
      "needs_background": "light"
     },
     "output_type": "display_data"
    },
    {
     "name": "stdout",
     "output_type": "stream",
     "text": [
      "La correlación de Yhousepriceofunitarea y X3distancetothenearestMRTstation es: -0.6736128553689182\n"
     ]
    },
    {
     "data": {
      "image/png": "[encoded data removed]",
      "text/plain": [
       "<Figure size 432x288 with 1 Axes>"
      ]
     },
     "metadata": {
      "needs_background": "light"
     },
     "output_type": "display_data"
    },
    {
     "name": "stdout",
     "output_type": "stream",
     "text": [
      "La correlación de Yhousepriceofunitarea y X4numberofconveniencestores es: 0.5710049111111482\n"
     ]
    },
    {
     "data": {
      "image/png": "[encoded data removed]",
      "text/plain": [
       "<Figure size 432x288 with 1 Axes>"
      ]
     },
     "metadata": {
      "needs_background": "light"
     },
     "output_type": "display_data"
    },
    {
     "name": "stdout",
     "output_type": "stream",
     "text": [
      "La correlación de Yhousepriceofunitarea y X5latitude es: 0.5463066525035892\n"
     ]
    },
    {
     "data": {
      "image/png": "[encoded data removed]",
      "text/plain": [
       "<Figure size 432x288 with 1 Axes>"
      ]
     },
     "metadata": {
      "needs_background": "light"
     },
     "output_type": "display_data"
    },
    {
     "name": "stdout",
     "output_type": "stream",
     "text": [
      "La correlación de Yhousepriceofunitarea y X6longitude es: 0.523286507028773\n"
     ]
    }
   ],
   "source": [
    "def relation_rm_medv(X1, means):\n",
    "  plt.scatter(X1, means, alpha=0.25)\n",
    "  plt.xlabel(\"X1\")\n",
    "  plt.ylabel(\"means\")\n",
    "  plt.show()\n",
    "  return np.corrcoef(X1, means)[0, 1]   #  se recibe uma matriz de correlaciones. Se xtrae la correlación\n",
    "\n",
    "print(\"La correlación de Yhousepriceofunitarea y X2houseage es:\", relation_rm_medv(X1, Y))\n",
    "print(\"La correlación de Yhousepriceofunitarea y X3distancetothenearestMRTstation es:\", relation_rm_medv(X2, Y))\n",
    "print(\"La correlación de Yhousepriceofunitarea y X4numberofconveniencestores es:\", relation_rm_medv(X3, Y))\n",
    "print(\"La correlación de Yhousepriceofunitarea y X5latitude es:\", relation_rm_medv(X4, Y))\n",
    "print(\"La correlación de Yhousepriceofunitarea y X6longitude es:\", relation_rm_medv(X5, Y))"
   ]
  },
  {
   "cell_type": "markdown",
   "metadata": {},
   "source": [
    "Al analizar las relaciones de cada una de las variables explicativas contra la variable precio a traves del calculo de correlaciones y graficas de dispersion se observa que:\n",
    "\n",
    "* A mayor valor de las siguientes variables, mayor valor del precio de las viviendas<br>\n",
    "    * Numero de tiendas (0.57)<br>\n",
    "    * Latitud (0.54)<br>\n",
    "    * Longitud (0.52)<br>\n",
    "\n",
    "* A mayor valos de las siguiente variables, menor valor del precio de las viviendas<br>\n",
    "    * Edad de la casa (-0.21)<br>\n",
    "    * Distancia a la estacion de metro mas cercana (-0.67)<br>"
   ]
  },
  {
   "cell_type": "code",
   "execution_count": 7,
   "metadata": {},
   "outputs": [
    {
     "data": {
      "image/png": "[encoded data removed]",
      "text/plain": [
       "<Figure size 432x288 with 1 Axes>"
      ]
     },
     "metadata": {
      "needs_background": "light"
     },
     "output_type": "display_data"
    },
    {
     "name": "stdout",
     "output_type": "stream",
     "text": [
      "None\n"
     ]
    },
    {
     "data": {
      "image/png": "[encoded data removed]",
      "text/plain": [
       "<Figure size 432x288 with 1 Axes>"
      ]
     },
     "metadata": {
      "needs_background": "light"
     },
     "output_type": "display_data"
    },
    {
     "name": "stdout",
     "output_type": "stream",
     "text": [
      "None\n"
     ]
    },
    {
     "data": {
      "image/png": "[encoded data removed]",
      "text/plain": [
       "<Figure size 432x288 with 1 Axes>"
      ]
     },
     "metadata": {
      "needs_background": "light"
     },
     "output_type": "display_data"
    },
    {
     "name": "stdout",
     "output_type": "stream",
     "text": [
      "None\n"
     ]
    },
    {
     "data": {
      "image/png": "[encoded data removed]",
      "text/plain": [
       "<Figure size 432x288 with 1 Axes>"
      ]
     },
     "metadata": {
      "needs_background": "light"
     },
     "output_type": "display_data"
    },
    {
     "name": "stdout",
     "output_type": "stream",
     "text": [
      "None\n"
     ]
    },
    {
     "data": {
      "image/png": "[encoded data removed]",
      "text/plain": [
       "<Figure size 432x288 with 1 Axes>"
      ]
     },
     "metadata": {
      "needs_background": "light"
     },
     "output_type": "display_data"
    },
    {
     "name": "stdout",
     "output_type": "stream",
     "text": [
      "None\n"
     ]
    },
    {
     "data": {
      "image/png": "[encoded data removed]",
      "text/plain": [
       "<Figure size 432x288 with 1 Axes>"
      ]
     },
     "metadata": {
      "needs_background": "light"
     },
     "output_type": "display_data"
    },
    {
     "name": "stdout",
     "output_type": "stream",
     "text": [
      "None\n"
     ]
    }
   ],
   "source": [
    "def medv_hist(medv,n,name):\n",
    "  plt.hist(medv, bins=n)\n",
    "  plt.xlabel(name)\n",
    "  plt.show()\n",
    "    \n",
    "print(medv_hist(Y,200,\"Yhousepriceofunitarea\"))\n",
    "print(medv_hist(X1,200,\"X2houseage\"))\n",
    "print(medv_hist(X2,200,\"X3distancetothenearestMRTstation\"))\n",
    "print(medv_hist(X3,200,\"X4numberofconveniencestores\"))\n",
    "print(medv_hist(X4,200,\"X5latitude\"))\n",
    "print(medv_hist(X5,200,\"X6longitude\"))"
   ]
  },
  {
   "cell_type": "code",
   "execution_count": 8,
   "metadata": {},
   "outputs": [],
   "source": [
    "Y=df.xs('Yhousepriceofunitarea', axis=1)\n",
    "X1=df.xs('X2houseage', axis=1)\n",
    "X2=df.xs('X3distancetothenearestMRTstation', axis=1)\n",
    "X3=df.xs('X4numberofconveniencestores', axis=1)\n",
    "X4=df.xs('X5latitude', axis=1)\n",
    "X5=df.xs('X6longitude', axis=1)"
   ]
  },
  {
   "cell_type": "code",
   "execution_count": 9,
   "metadata": {},
   "outputs": [
    {
     "data": {
      "text/html": [
       "<div>\n",
       "<style scoped>\n",
       "    .dataframe tbody tr th:only-of-type {\n",
       "        vertical-align: middle;\n",
       "    }\n",
       "\n",
       "    .dataframe tbody tr th {\n",
       "        vertical-align: top;\n",
       "    }\n",
       "\n",
       "    .dataframe thead th {\n",
       "        text-align: right;\n",
       "    }\n",
       "</style>\n",
       "<table border=\"1\" class=\"dataframe\">\n",
       "  <thead>\n",
       "    <tr style=\"text-align: right;\">\n",
       "      <th></th>\n",
       "      <th>X1transactiondate</th>\n",
       "      <th>X2houseage</th>\n",
       "      <th>X3distancetothenearestMRTstation</th>\n",
       "      <th>X4numberofconveniencestores</th>\n",
       "      <th>X5latitude</th>\n",
       "      <th>X6longitude</th>\n",
       "      <th>Yhousepriceofunitarea</th>\n",
       "    </tr>\n",
       "    <tr>\n",
       "      <th>No</th>\n",
       "      <th></th>\n",
       "      <th></th>\n",
       "      <th></th>\n",
       "      <th></th>\n",
       "      <th></th>\n",
       "      <th></th>\n",
       "      <th></th>\n",
       "    </tr>\n",
       "  </thead>\n",
       "  <tbody>\n",
       "    <tr>\n",
       "      <th>1</th>\n",
       "      <td>2012.917</td>\n",
       "      <td>32.0</td>\n",
       "      <td>84.87882</td>\n",
       "      <td>10</td>\n",
       "      <td>24.98298</td>\n",
       "      <td>121.54024</td>\n",
       "      <td>37.9</td>\n",
       "    </tr>\n",
       "    <tr>\n",
       "      <th>2</th>\n",
       "      <td>2012.917</td>\n",
       "      <td>19.5</td>\n",
       "      <td>306.59470</td>\n",
       "      <td>9</td>\n",
       "      <td>24.98034</td>\n",
       "      <td>121.53951</td>\n",
       "      <td>42.2</td>\n",
       "    </tr>\n",
       "  </tbody>\n",
       "</table>\n",
       "</div>"
      ],
      "text/plain": [
       "    X1transactiondate  X2houseage  X3distancetothenearestMRTstation  \\\n",
       "No                                                                    \n",
       "1            2012.917        32.0                          84.87882   \n",
       "2            2012.917        19.5                         306.59470   \n",
       "\n",
       "    X4numberofconveniencestores  X5latitude  X6longitude  \\\n",
       "No                                                         \n",
       "1                            10    24.98298    121.54024   \n",
       "2                             9    24.98034    121.53951   \n",
       "\n",
       "    Yhousepriceofunitarea  \n",
       "No                         \n",
       "1                    37.9  \n",
       "2                    42.2  "
      ]
     },
     "execution_count": 9,
     "metadata": {},
     "output_type": "execute_result"
    }
   ],
   "source": [
    "df.head(2)"
   ]
  },
  {
   "cell_type": "code",
   "execution_count": 107,
   "metadata": {},
   "outputs": [
    {
     "name": "stdout",
     "output_type": "stream",
     "text": [
      "289\n",
      "124\n"
     ]
    }
   ],
   "source": [
    "length = len(df)\n",
    "train_len = int(0.7* length)\n",
    "print(train_len)\n",
    "test_len = int(0.3* length)\n",
    "print(test_len)\n",
    "\n",
    "train_set = df[0: train_len]\n",
    "Y_train=train_set.xs('Yhousepriceofunitarea', axis=1)\n",
    "test_set = df[train_len: train_len+test_len]\n",
    "Y_test=test_set.xs('Yhousepriceofunitarea', axis=1)"
   ]
  },
  {
   "cell_type": "code",
   "execution_count": 108,
   "metadata": {},
   "outputs": [],
   "source": [
    "from sklearn import linear_model\n",
    "from sklearn.metrics import mean_squared_error"
   ]
  },
  {
   "cell_type": "code",
   "execution_count": 148,
   "metadata": {},
   "outputs": [
    {
     "name": "stdout",
     "output_type": "stream",
     "text": [
      "Coeficientes sklearn: -6957.532223523653 [-3.89540093e-03  1.11368537e+00  2.80376365e+02 -3.01681259e-01]\n",
      "Error regresión lineal múltiple: 84.3875049793543\n"
     ]
    }
   ],
   "source": [
    "x_train = train_set[['X3distancetothenearestMRTstation','X4numberofconveniencestores','X5latitude','X2houseage']]\n",
    "model = linear_model.LinearRegression(fit_intercept=True).fit(x_train, Y_train) \n",
    "print(\"Coeficientes sklearn:\", model.intercept_, model.coef_)\n",
    "print(\"Error regresión lineal múltiple:\", mean_squared_error(Y_train, model.predict(x_train)))"
   ]
  },
  {
   "cell_type": "code",
   "execution_count": 149,
   "metadata": {},
   "outputs": [
    {
     "name": "stdout",
     "output_type": "stream",
     "text": [
      "Coeficientes sklearn: [-3460.51643524] [[-4.86865486e-03  1.19100802e+00  1.40236262e+02 -1.83579216e-01]]\n",
      "Error regresión lineal múltiple: 88.56242099197128\n"
     ]
    }
   ],
   "source": [
    "x_test = test_set[['X3distancetothenearestMRTstation','X4numberofconveniencestores','X5latitude','X2houseage']]\n",
    "model_2 = model.fit(x_test, Y_test) \n",
    "print(\"Coeficientes sklearn:\", model_2.intercept_, model_2.coef_)\n",
    "print(\"Error regresión lineal múltiple:\", mean_squared_error(Y_train, model_2.predict(x_train)))"
   ]
  },
  {
   "cell_type": "code",
   "execution_count": 150,
   "metadata": {},
   "outputs": [
    {
     "data": {
      "text/html": [
       "<div>\n",
       "<style scoped>\n",
       "    .dataframe tbody tr th:only-of-type {\n",
       "        vertical-align: middle;\n",
       "    }\n",
       "\n",
       "    .dataframe tbody tr th {\n",
       "        vertical-align: top;\n",
       "    }\n",
       "\n",
       "    .dataframe thead th {\n",
       "        text-align: right;\n",
       "    }\n",
       "</style>\n",
       "<table border=\"1\" class=\"dataframe\">\n",
       "  <thead>\n",
       "    <tr style=\"text-align: right;\">\n",
       "      <th></th>\n",
       "      <th>0</th>\n",
       "    </tr>\n",
       "  </thead>\n",
       "  <tbody>\n",
       "    <tr>\n",
       "      <th>0</th>\n",
       "      <td>44.864730</td>\n",
       "    </tr>\n",
       "    <tr>\n",
       "      <th>1</th>\n",
       "      <td>32.179079</td>\n",
       "    </tr>\n",
       "    <tr>\n",
       "      <th>2</th>\n",
       "      <td>46.859587</td>\n",
       "    </tr>\n",
       "    <tr>\n",
       "      <th>3</th>\n",
       "      <td>40.139488</td>\n",
       "    </tr>\n",
       "    <tr>\n",
       "      <th>4</th>\n",
       "      <td>44.969292</td>\n",
       "    </tr>\n",
       "  </tbody>\n",
       "</table>\n",
       "</div>"
      ],
      "text/plain": [
       "           0\n",
       "0  44.864730\n",
       "1  32.179079\n",
       "2  46.859587\n",
       "3  40.139488\n",
       "4  44.969292"
      ]
     },
     "execution_count": 150,
     "metadata": {},
     "output_type": "execute_result"
    }
   ],
   "source": [
    "y_predict = model.predict(x_test)\n",
    "y_predict = pd.DataFrame(y_predict)\n",
    "y_predict.head(5)"
   ]
  },
  {
   "cell_type": "code",
   "execution_count": 151,
   "metadata": {},
   "outputs": [
    {
     "data": {
      "text/html": [
       "<div>\n",
       "<style scoped>\n",
       "    .dataframe tbody tr th:only-of-type {\n",
       "        vertical-align: middle;\n",
       "    }\n",
       "\n",
       "    .dataframe tbody tr th {\n",
       "        vertical-align: top;\n",
       "    }\n",
       "\n",
       "    .dataframe thead th {\n",
       "        text-align: right;\n",
       "    }\n",
       "</style>\n",
       "<table border=\"1\" class=\"dataframe\">\n",
       "  <thead>\n",
       "    <tr style=\"text-align: right;\">\n",
       "      <th></th>\n",
       "      <th>Yhousepriceofunitarea</th>\n",
       "    </tr>\n",
       "    <tr>\n",
       "      <th>No</th>\n",
       "      <th></th>\n",
       "    </tr>\n",
       "  </thead>\n",
       "  <tbody>\n",
       "    <tr>\n",
       "      <th>290</th>\n",
       "      <td>44.5</td>\n",
       "    </tr>\n",
       "    <tr>\n",
       "      <th>291</th>\n",
       "      <td>37.0</td>\n",
       "    </tr>\n",
       "    <tr>\n",
       "      <th>292</th>\n",
       "      <td>54.4</td>\n",
       "    </tr>\n",
       "    <tr>\n",
       "      <th>293</th>\n",
       "      <td>24.5</td>\n",
       "    </tr>\n",
       "    <tr>\n",
       "      <th>294</th>\n",
       "      <td>42.5</td>\n",
       "    </tr>\n",
       "  </tbody>\n",
       "</table>\n",
       "</div>"
      ],
      "text/plain": [
       "     Yhousepriceofunitarea\n",
       "No                        \n",
       "290                   44.5\n",
       "291                   37.0\n",
       "292                   54.4\n",
       "293                   24.5\n",
       "294                   42.5"
      ]
     },
     "execution_count": 151,
     "metadata": {},
     "output_type": "execute_result"
    }
   ],
   "source": [
    "Y_test = pd.DataFrame(Y_test)\n",
    "Y_test.head(5)"
   ]
  },
  {
   "cell_type": "code",
   "execution_count": 152,
   "metadata": {},
   "outputs": [
    {
     "data": {
      "text/html": [
       "<table class=\"simpletable\">\n",
       "<tr>\n",
       "                  <td></td>                    <th>coef</th>     <th>std err</th>      <th>t</th>      <th>P>|t|</th>  <th>[0.025</th>    <th>0.975]</th>  \n",
       "</tr>\n",
       "<tr>\n",
       "  <th>Intercept</th>                        <td>-5916.0065</td> <td> 1112.732</td> <td>   -5.317</td> <td> 0.000</td> <td>-8103.394</td> <td>-3728.619</td>\n",
       "</tr>\n",
       "<tr>\n",
       "  <th>X3distancetothenearestMRTstation</th> <td>   -0.0042</td> <td>    0.000</td> <td>   -8.473</td> <td> 0.000</td> <td>   -0.005</td> <td>   -0.003</td>\n",
       "</tr>\n",
       "<tr>\n",
       "  <th>X4numberofconveniencestores</th>      <td>    1.1648</td> <td>    0.190</td> <td>    6.141</td> <td> 0.000</td> <td>    0.792</td> <td>    1.538</td>\n",
       "</tr>\n",
       "<tr>\n",
       "  <th>X5latitude</th>                       <td>  238.6357</td> <td>   44.561</td> <td>    5.355</td> <td> 0.000</td> <td>  151.039</td> <td>  326.233</td>\n",
       "</tr>\n",
       "<tr>\n",
       "  <th>X2houseage</th>                       <td>   -0.2687</td> <td>    0.039</td> <td>   -6.903</td> <td> 0.000</td> <td>   -0.345</td> <td>   -0.192</td>\n",
       "</tr>\n",
       "</table>"
      ],
      "text/plain": [
       "<class 'statsmodels.iolib.table.SimpleTable'>"
      ]
     },
     "execution_count": 152,
     "metadata": {},
     "output_type": "execute_result"
    }
   ],
   "source": [
    "import statsmodels.formula.api as sm\n",
    "model2 = sm.ols('Yhousepriceofunitarea ~ X3distancetothenearestMRTstation + X4numberofconveniencestores + X5latitude + X2houseage', df).fit()\n",
    "model2.summary().tables[1]"
   ]
  },
  {
   "cell_type": "markdown",
   "metadata": {},
   "source": [
    "**5. Conclusiones**"
   ]
  },
  {
   "cell_type": "markdown",
   "metadata": {},
   "source": [
    "Se observa en la medida del error cuadraticomedio que ha medida que se incluyen variables explicativas esta medida va disminuyendo considerablemente, ademas se encuntra que la diferencia entre el error en los datos de entrenamiento y validacion no es muy grande. Al probar con el metodo sm.ols se observa que la longitud no es significativa, al eliminar esta variable el intercepto se vuelve significativo y ademas se mantiene el error sin disminuir."
   ]
  },
  {
   "cell_type": "markdown",
   "metadata": {},
   "source": [
    "**6. Bibliografia**\n",
    "\n",
    "* https://es.wikipedia.org/wiki/Regresi%C3%B3n_lineal\n",
    "* https://www.kaggle.com/quantbruce/real-estate-price-prediction"
   ]
  }
 ],
 "metadata": {
  "kernelspec": {
   "display_name": "Python 3",
   "language": "python",
   "name": "python3"
  },
  "language_info": {
   "codemirror_mode": {
    "name": "ipython",
    "version": 3
   },
   "file_extension": ".py",
   "mimetype": "text/x-python",
   "name": "python",
   "nbconvert_exporter": "python",
   "pygments_lexer": "ipython3",
   "version": "3.8.3"
  }
 },
 "nbformat": 4,
 "nbformat_minor": 4
}
